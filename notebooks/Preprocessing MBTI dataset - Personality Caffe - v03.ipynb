{
 "cells": [
  {
   "cell_type": "markdown",
   "metadata": {},
   "source": [
    "# Priprema skupa podataka"
   ]
  },
  {
   "cell_type": "markdown",
   "metadata": {},
   "source": []
  },
  {
   "cell_type": "markdown",
   "metadata": {},
   "source": [
    "For this experiment I will use data from PersonalityCafe forum."
   ]
  },
  {
   "cell_type": "code",
   "execution_count": 100,
   "metadata": {
    "collapsed": false,
    "jupyter": {
     "outputs_hidden": false
    },
    "pycharm": {
     "name": "#%%\n"
    }
   },
   "outputs": [
    {
     "name": "stdout",
     "output_type": "stream",
     "text": [
      "(8675, 2)\n"
     ]
    }
   ],
   "source": [
    "import numpy as np\n",
    "import pandas as pd\n",
    "import nltk\n",
    "raw_data = pd.read_csv('../data/raw/mbti_1.csv')\n",
    "print(raw_data.shape)"
   ]
  },
  {
   "cell_type": "markdown",
   "metadata": {},
   "source": [
    "## 2. Exploratory data analysis"
   ]
  },
  {
   "cell_type": "markdown",
   "metadata": {},
   "source": [
    "Dataset has 8675 rows and two columns. The first column is a personality datatype, and the second one is the last 50 words of the forum post. Personality type has a four-letter label, and post text is divided with '|||'. We can notice, besides the text, links, emoticons, and special symbols."
   ]
  },
  {
   "cell_type": "code",
   "execution_count": 101,
   "metadata": {
    "collapsed": false,
    "jupyter": {
     "outputs_hidden": false
    },
    "pycharm": {
     "name": "#%%\n"
    }
   },
   "outputs": [
    {
     "name": "stdout",
     "output_type": "stream",
     "text": [
      "INFJ\n",
      "'http://www.youtube.com/watch?v=qsXHcwe3krw|||http://41.media.tumblr.com/tumblr_lfouy03PMA1qa1rooo1_500.jpg|||enfp and intj moments  https://www.youtube.com/watch?v=iz7lE1g4XM4  sportscenter not top ten plays  https://www.youtube.com/watch?v=uCdfze1etec  pranks|||What has been the most life-changing experience in your life?|||http://www.youtube.com/watch?v=vXZeYwwRDw8   http://www.youtube.com/watch?v=u8ejam5DP3E  On repeat for most of today.|||May the PerC Experience immerse you.|||The last thing my INFJ friend posted on his facebook before committing suicide the next day. Rest in peace~   http://vimeo.com/22842206|||Hello ENFJ7. Sorry to hear of your distress. It's only natural for a relationship to not be perfection all the time in every moment of existence. Try to figure the hard times as times of growth, as...|||84389  84390  http://wallpaperpassion.com/upload/23700/friendship-boy-and-girl-wallpaper.jpg  http://assets.dornob.com/wp-content/uploads/2010/04/round-home-design.jpg ...|||Welcome and stuff.|||http://playeressence.com/wp-content/uploads/2013/08/RED-red-the-pokemon-master-32560474-450-338.jpg  Game. Set. Match.|||Prozac, wellbrutin, at least thirty minutes of moving your legs (and I don't mean moving them while sitting in your same desk chair), weed in moderation (maybe try edibles as a healthier alternative...|||Basically come up with three items you've determined that each type (or whichever types you want to do) would more than likely use, given each types' cognitive functions and whatnot, when left by...|||All things in moderation.  Sims is indeed a video game, and a good one at that. Note: a good one at that is somewhat subjective in that I am not completely promoting the death of any given Sim...|||Dear ENFP:  What were your favorite video games growing up and what are your now, current favorite video games? :cool:|||https://www.youtube.com/watch?v=QyPqT8umzmY|||It appears to be too late. :sad:|||There's someone out there for everyone.|||Wait... I thought confidence was a good thing.|||I just cherish the time of solitude b/c i revel within my inner world more whereas most other time i'd be workin... just enjoy the me time while you can. Don't worry, people will always be around to...|||Yo entp ladies... if you're into a complimentary personality,well, hey.|||... when your main social outlet is xbox live conversations and even then you verbally fatigue quickly.|||http://www.youtube.com/watch?v=gDhy7rdfm14  I really dig the part from 1:46 to 2:50|||http://www.youtube.com/watch?v=msqXffgh7b8|||Banned because this thread requires it of me.|||Get high in backyard, roast and eat marshmellows in backyard while conversing over something intellectual, followed by massages and kisses.|||http://www.youtube.com/watch?v=Mw7eoU3BMbE|||http://www.youtube.com/watch?v=4V2uYORhQOk|||http://www.youtube.com/watch?v=SlVmgFQQ0TI|||Banned for too many b's in that sentence. How could you! Think of the B!|||Banned for watching movies in the corner with the dunces.|||Banned because Health class clearly taught you nothing about peer pressure.|||Banned for a whole host of reasons!|||http://www.youtube.com/watch?v=IRcrv41hgz4|||1) Two baby deer on left and right munching on a beetle in the middle.  2) Using their own blood, two cavemen diary today's latest happenings on their designated cave diary wall.  3) I see it as...|||a pokemon world  an infj society  everyone becomes an optimist|||49142|||http://www.youtube.com/watch?v=ZRCEq_JFeFM|||http://discovermagazine.com/2012/jul-aug/20-things-you-didnt-know-about-deserts/desert.jpg|||http://oyster.ignimgs.com/mediawiki/apis.ign.com/pokemon-silver-version/d/dd/Ditto.gif|||http://www.serebii.net/potw-dp/Scizor.jpg|||Not all artists are artists because they draw. It's the idea that counts in forming something of your own... like a signature.|||Welcome to the robot ranks, person who downed my self-esteem cuz I'm not an avid signature artist like herself. :proud:|||Banned for taking all the room under my bed. Ya gotta learn to share with the roaches.|||http://www.youtube.com/watch?v=w8IgImn57aQ|||Banned for being too much of a thundering, grumbling kind of storm... yep.|||Ahh... old high school music I haven't heard in ages.   http://www.youtube.com/watch?v=dcCRUPCdB1w|||I failed a public speaking class a few years ago and I've sort of learned what I could do better were I to be in that position again. A big part of my failure was just overloading myself with too...|||I like this person's mentality. He's a confirmed INTJ by the way. http://www.youtube.com/watch?v=hGKLI-GEc6M|||Move to the Denver area and start a new life for myself.'\n"
     ]
    }
   ],
   "source": [
    "print(raw_data['type'][0])\n",
    "print(raw_data['posts'][0])"
   ]
  },
  {
   "cell_type": "markdown",
   "metadata": {},
   "source": [
    "This dataset is very imbalanced."
   ]
  },
  {
   "cell_type": "code",
   "execution_count": 102,
   "metadata": {
    "collapsed": false,
    "jupyter": {
     "outputs_hidden": false
    },
    "pycharm": {
     "name": "#%%\n"
    }
   },
   "outputs": [
    {
     "data": {
      "text/plain": "<Figure size 432x288 with 1 Axes>",
      "image/png": "[encoded data removed]"
     },
     "metadata": {
      "needs_background": "light"
     },
     "output_type": "display_data"
    }
   ],
   "source": [
    "import matplotlib.pyplot as plt\n",
    "\n",
    "plt.figure()\n",
    "counts = raw_data['type'].value_counts()\n",
    "counts.plot(kind='bar')\n",
    "plt.xlabel('personality type')\n",
    "plt.ylabel('# of persons')\n",
    "plt.show()"
   ]
  },
  {
   "cell_type": "markdown",
   "metadata": {},
   "source": [
    "Some personality types are dominant (like INFP), and some are very rare (like ESTJ)."
   ]
  },
  {
   "cell_type": "code",
   "execution_count": 103,
   "metadata": {
    "collapsed": false,
    "jupyter": {
     "outputs_hidden": false
    },
    "pycharm": {
     "name": "#%%\n"
    }
   },
   "outputs": [
    {
     "data": {
      "text/plain": "<Figure size 432x288 with 1 Axes>",
      "image/png": "[encoded data removed]"
     },
     "metadata": {
      "needs_background": "light"
     },
     "output_type": "display_data"
    }
   ],
   "source": [
    "raw_data['I/E'] = [t[0] for t in raw_data['type']]\n",
    "\n",
    "plt.figure()\n",
    "counts = raw_data['I/E'].value_counts()\n",
    "counts.plot(kind='bar')\n",
    "plt.xlabel('I / E')\n",
    "plt.xticks(rotation=0)\n",
    "plt.ylabel('# of persons')\n",
    "plt.show()"
   ]
  },
  {
   "cell_type": "code",
   "execution_count": 104,
   "metadata": {
    "collapsed": false,
    "jupyter": {
     "outputs_hidden": false
    },
    "pycharm": {
     "name": "#%%\n"
    }
   },
   "outputs": [
    {
     "data": {
      "text/plain": "<Figure size 432x288 with 1 Axes>",
      "image/png": "[encoded data removed]"
     },
     "metadata": {
      "needs_background": "light"
     },
     "output_type": "display_data"
    }
   ],
   "source": [
    "raw_data['N/S'] = [t[1] for t in raw_data['type']]\n",
    "\n",
    "plt.figure()\n",
    "counts = raw_data['N/S'].value_counts()\n",
    "counts.plot(kind='bar')\n",
    "plt.xlabel('N / S')\n",
    "plt.xticks(rotation=0)\n",
    "plt.ylabel('# of persons')\n",
    "plt.show()"
   ]
  },
  {
   "cell_type": "code",
   "execution_count": 105,
   "metadata": {
    "collapsed": false,
    "jupyter": {
     "outputs_hidden": false
    },
    "pycharm": {
     "name": "#%%\n"
    }
   },
   "outputs": [
    {
     "data": {
      "text/plain": "<Figure size 432x288 with 1 Axes>",
      "image/png": "[encoded data removed]"
     },
     "metadata": {
      "needs_background": "light"
     },
     "output_type": "display_data"
    }
   ],
   "source": [
    "raw_data['T/F'] = [t[2] for t in raw_data['type']]\n",
    "\n",
    "plt.figure()\n",
    "counts = raw_data['T/F'].value_counts()\n",
    "counts.plot(kind='bar')\n",
    "plt.xlabel('T / F')\n",
    "plt.xticks(rotation=0)\n",
    "plt.ylabel('# of persons')\n",
    "plt.show()"
   ]
  },
  {
   "cell_type": "code",
   "execution_count": 106,
   "metadata": {
    "collapsed": false,
    "jupyter": {
     "outputs_hidden": false
    },
    "pycharm": {
     "name": "#%%\n"
    }
   },
   "outputs": [
    {
     "data": {
      "text/plain": "<Figure size 432x288 with 1 Axes>",
      "image/png": "[encoded data removed]"
     },
     "metadata": {
      "needs_background": "light"
     },
     "output_type": "display_data"
    }
   ],
   "source": [
    "raw_data['J/P'] = [t[3] for t in raw_data['type']]\n",
    "\n",
    "plt.figure()\n",
    "counts = raw_data['J/P'].value_counts()\n",
    "counts.plot(kind='bar')\n",
    "plt.xlabel('J / P')\n",
    "plt.xticks(rotation=0)\n",
    "plt.ylabel('# of persons')\n",
    "plt.show()"
   ]
  },
  {
   "cell_type": "markdown",
   "metadata": {},
   "source": [
    "## 3. Text preprocessing"
   ]
  },
  {
   "cell_type": "markdown",
   "metadata": {},
   "source": [
    "Text preprocessing will enable better results in model learning."
   ]
  },
  {
   "cell_type": "code",
   "execution_count": 107,
   "metadata": {},
   "outputs": [],
   "source": [
    "#install just the first time\n",
    "#!pip install contractions"
   ]
  },
  {
   "cell_type": "code",
   "execution_count": 108,
   "metadata": {
    "collapsed": false,
    "jupyter": {
     "outputs_hidden": false
    },
    "pycharm": {
     "name": "#%%\n"
    }
   },
   "outputs": [],
   "source": [
    "import re\n",
    "from string import punctuation\n",
    "import contractions\n",
    "\n",
    "def remove_unwanted_parts(text):\n",
    "    text = re.sub(r'\\|\\|\\|', ' ', text)  # remove |||\n",
    "    text = re.sub(r'http\\S+', '', text)  # remove links\n",
    "    text = re.sub('\\d+', '', text) # remove numbers\n",
    "    text = contractions.fix(text) # change contractions (like I'm --> I am)\n",
    "    text = re.sub(r'(?<=[.,!?()])(?=[^\\s])', r' ', text) # add space after comma or the end of the sentence\n",
    "    text = re.sub(r'(?<!\\w)['+ punctuation +']+|[' + punctuation + ']+(?!\\w)', '', text) # remove interpunctions if they are outside the word\n",
    "    text = re.sub(r'(?<=\\w)/(?=\\w)', ' ', text) # divide words separated with /\n",
    "    text = re.sub(r'\\s{2,}', ' ', text) # 2 or more spaces replace with one space\n",
    "    return text\n",
    "\n",
    "clean_data = raw_data.copy()\n",
    "clean_data['posts'] = [remove_unwanted_parts(entry) for entry in clean_data['posts']]"
   ]
  },
  {
   "cell_type": "markdown",
   "metadata": {},
   "source": [
    "Convert all words to lowercase."
   ]
  },
  {
   "cell_type": "code",
   "execution_count": 109,
   "metadata": {
    "collapsed": false,
    "jupyter": {
     "outputs_hidden": false
    },
    "pycharm": {
     "name": "#%%\n"
    }
   },
   "outputs": [],
   "source": [
    "clean_data['posts'] = [entry.lower() for entry in clean_data['posts']]"
   ]
  },
  {
   "cell_type": "code",
   "execution_count": 110,
   "metadata": {
    "collapsed": false,
    "jupyter": {
     "outputs_hidden": false
    },
    "pycharm": {
     "name": "#%%\n"
    }
   },
   "outputs": [
    {
     "name": "stdout",
     "output_type": "stream",
     "text": [
      " enfp and intj moments sportscenter not top ten plays pranks what has been the most life-changing experience in your life on repeat for most of today may the perc experience immerse you the last thing my infj friend posted on his facebook before committing suicide the next day rest in peace hello enfj sorry to hear of your distress it is only natural for a relationship to not be perfection all the time in every moment of existence try to figure the hard times as times of growth as welcome and stuff game set match prozac wellbrutin at least thirty minutes of moving your legs and i do not mean moving them while sitting in your same desk chair weed in moderation maybe try edibles as a healthier alternative basically come up with three items you have determined that each type or whichever types you want to do would more than likely use given each types cognitive functions and whatnot when left by all things in moderation sims is indeed a video game and a good one at that note a good one at that is somewhat subjective in that i am not completely promoting the death of any given sim dear enfp what were your favorite video games growing up and what are your now current favorite video games cool it appears to be too late sad there is someone out there for everyone wait i thought confidence was a good thing i just cherish the time of solitude b c i revel within my inner world more whereas most other time i would be workin just enjoy the me time while you can do not worry people will always be around to yo entp ladies if you are into a complimentary personality well hey when your main social outlet is xbox live conversations and even then you verbally fatigue quickly i really dig the part from to banned because this thread requires it of me get high in backyard roast and eat marshmellows in backyard while conversing over something intellectual followed by massages and kisses banned for too many b's in that sentence how could you think of the b banned for watching movies in the corner with the dunces banned because health class clearly taught you nothing about peer pressure banned for a whole host of reasons two baby deer on left and right munching on a beetle in the middle using their own blood two cavemen diary today's latest happenings on their designated cave diary wall i see it as a pokemon world an infj society everyone becomes an optimist not all artists are artists because they draw it is the idea that counts in forming something of your own like a signature welcome to the robot ranks person who downed my self-esteem cuz i am not an avid signature artist like herself proud banned for taking all the room under my bed ya got to learn to share with the roaches banned for being too much of a thundering grumbling kind of storm yep ahh old high school music i have not heard in ages i failed a public speaking class a few years ago and i have sort of learned what i could do better were i to be in that position again a big part of my failure was just overloading myself with too i like this person's mentality he is a confirmed intj by the way move to the denver area and start a new life for myself \n"
     ]
    }
   ],
   "source": [
    "print(clean_data['posts'][0])"
   ]
  },
  {
   "cell_type": "markdown",
   "metadata": {},
   "source": []
  },
  {
   "cell_type": "code",
   "execution_count": 111,
   "metadata": {
    "collapsed": false,
    "jupyter": {
     "outputs_hidden": false
    },
    "pycharm": {
     "name": "#%%\n"
    }
   },
   "outputs": [
    {
     "name": "stdout",
     "output_type": "stream",
     "text": [
      "['enfp', 'and', 'intj', 'moments', 'sportscenter', 'not', 'top', 'ten', 'plays', 'pranks', 'what', 'has', 'been', 'the', 'most', 'life-changing', 'experience', 'in', 'your', 'life', 'on', 'repeat', 'for', 'most', 'of', 'today', 'may', 'the', 'perc', 'experience', 'immerse', 'you', 'the', 'last', 'thing', 'my', 'infj', 'friend', 'posted', 'on', 'his', 'facebook', 'before', 'committing', 'suicide', 'the', 'next', 'day', 'rest', 'in', 'peace', 'hello', 'enfj', 'sorry', 'to', 'hear', 'of', 'your', 'distress', 'it', 'is', 'only', 'natural', 'for', 'a', 'relationship', 'to', 'not', 'be', 'perfection', 'all', 'the', 'time', 'in', 'every', 'moment', 'of', 'existence', 'try', 'to', 'figure', 'the', 'hard', 'times', 'as', 'times', 'of', 'growth', 'as', 'welcome', 'and', 'stuff', 'game', 'set', 'match', 'prozac', 'wellbrutin', 'at', 'least', 'thirty', 'minutes', 'of', 'moving', 'your', 'legs', 'and', 'i', 'do', 'not', 'mean', 'moving', 'them', 'while', 'sitting', 'in', 'your', 'same', 'desk', 'chair', 'weed', 'in', 'moderation', 'maybe', 'try', 'edibles', 'as', 'a', 'healthier', 'alternative', 'basically', 'come', 'up', 'with', 'three', 'items', 'you', 'have', 'determined', 'that', 'each', 'type', 'or', 'whichever', 'types', 'you', 'want', 'to', 'do', 'would', 'more', 'than', 'likely', 'use', 'given', 'each', 'types', 'cognitive', 'functions', 'and', 'whatnot', 'when', 'left', 'by', 'all', 'things', 'in', 'moderation', 'sims', 'is', 'indeed', 'a', 'video', 'game', 'and', 'a', 'good', 'one', 'at', 'that', 'note', 'a', 'good', 'one', 'at', 'that', 'is', 'somewhat', 'subjective', 'in', 'that', 'i', 'am', 'not', 'completely', 'promoting', 'the', 'death', 'of', 'any', 'given', 'sim', 'dear', 'enfp', 'what', 'were', 'your', 'favorite', 'video', 'games', 'growing', 'up', 'and', 'what', 'are', 'your', 'now', 'current', 'favorite', 'video', 'games', 'cool', 'it', 'appears', 'to', 'be', 'too', 'late', 'sad', 'there', 'is', 'someone', 'out', 'there', 'for', 'everyone', 'wait', 'i', 'thought', 'confidence', 'was', 'a', 'good', 'thing', 'i', 'just', 'cherish', 'the', 'time', 'of', 'solitude', 'b', 'c', 'i', 'revel', 'within', 'my', 'inner', 'world', 'more', 'whereas', 'most', 'other', 'time', 'i', 'would', 'be', 'workin', 'just', 'enjoy', 'the', 'me', 'time', 'while', 'you', 'can', 'do', 'not', 'worry', 'people', 'will', 'always', 'be', 'around', 'to', 'yo', 'entp', 'ladies', 'if', 'you', 'are', 'into', 'a', 'complimentary', 'personality', 'well', 'hey', 'when', 'your', 'main', 'social', 'outlet', 'is', 'xbox', 'live', 'conversations', 'and', 'even', 'then', 'you', 'verbally', 'fatigue', 'quickly', 'i', 'really', 'dig', 'the', 'part', 'from', 'to', 'banned', 'because', 'this', 'thread', 'requires', 'it', 'of', 'me', 'get', 'high', 'in', 'backyard', 'roast', 'and', 'eat', 'marshmellows', 'in', 'backyard', 'while', 'conversing', 'over', 'something', 'intellectual', 'followed', 'by', 'massages', 'and', 'kisses', 'banned', 'for', 'too', 'many', \"b's\", 'in', 'that', 'sentence', 'how', 'could', 'you', 'think', 'of', 'the', 'b', 'banned', 'for', 'watching', 'movies', 'in', 'the', 'corner', 'with', 'the', 'dunces', 'banned', 'because', 'health', 'class', 'clearly', 'taught', 'you', 'nothing', 'about', 'peer', 'pressure', 'banned', 'for', 'a', 'whole', 'host', 'of', 'reasons', 'two', 'baby', 'deer', 'on', 'left', 'and', 'right', 'munching', 'on', 'a', 'beetle', 'in', 'the', 'middle', 'using', 'their', 'own', 'blood', 'two', 'cavemen', 'diary', \"today's\", 'latest', 'happenings', 'on', 'their', 'designated', 'cave', 'diary', 'wall', 'i', 'see', 'it', 'as', 'a', 'pokemon', 'world', 'an', 'infj', 'society', 'everyone', 'becomes', 'an', 'optimist', 'not', 'all', 'artists', 'are', 'artists', 'because', 'they', 'draw', 'it', 'is', 'the', 'idea', 'that', 'counts', 'in', 'forming', 'something', 'of', 'your', 'own', 'like', 'a', 'signature', 'welcome', 'to', 'the', 'robot', 'ranks', 'person', 'who', 'downed', 'my', 'self-esteem', 'cuz', 'i', 'am', 'not', 'an', 'avid', 'signature', 'artist', 'like', 'herself', 'proud', 'banned', 'for', 'taking', 'all', 'the', 'room', 'under', 'my', 'bed', 'ya', 'got', 'to', 'learn', 'to', 'share', 'with', 'the', 'roaches', 'banned', 'for', 'being', 'too', 'much', 'of', 'a', 'thundering', 'grumbling', 'kind', 'of', 'storm', 'yep', 'ahh', 'old', 'high', 'school', 'music', 'i', 'have', 'not', 'heard', 'in', 'ages', 'i', 'failed', 'a', 'public', 'speaking', 'class', 'a', 'few', 'years', 'ago', 'and', 'i', 'have', 'sort', 'of', 'learned', 'what', 'i', 'could', 'do', 'better', 'were', 'i', 'to', 'be', 'in', 'that', 'position', 'again', 'a', 'big', 'part', 'of', 'my', 'failure', 'was', 'just', 'overloading', 'myself', 'with', 'too', 'i', 'like', 'this', \"person's\", 'mentality', 'he', 'is', 'a', 'confirmed', 'intj', 'by', 'the', 'way', 'move', 'to', 'the', 'denver', 'area', 'and', 'start', 'a', 'new', 'life', 'for', 'myself']\n"
     ]
    }
   ],
   "source": [
    "#Tokenization. We will split the sentence according to the space, keeping in mind the previous steps.\n",
    "clean_data['posts'] = [post.split() for post in clean_data['posts']]\n",
    "print(clean_data['posts'][0])"
   ]
  },
  {
   "cell_type": "markdown",
   "metadata": {},
   "source": []
  },
  {
   "cell_type": "code",
   "metadata": {
    "jupyter": {
     "outputs_hidden": false
    },
    "pycharm": {
     "name": "#%%\n"
    }
   },
   "source": [
    "#Removing stopwords (like 'a', 'and', 'for').\n",
    "# It is normal to remove stopwords. However, since there are researches that show that their\n",
    "# impact to the personality type is important, this step is skipped!"
   ],
   "execution_count": 112,
   "outputs": []
  },
  {
   "cell_type": "markdown",
   "source": [
    "from nltk.corpus import stopwords\n",
    "\n",
    "stop_words = set(stopwords.words('english'))\n",
    "\n",
    "def remove_stopwords(words_list):\n",
    "    filtered_words = [word for word in words_list if word not in stop_words]\n",
    "    return filtered_words\n",
    "\n",
    "clean_data['posts'] = [remove_stopwords(entry) for entry in clean_data['posts']]\n",
    "print(stop_words)"
   ],
   "metadata": {
    "collapsed": false,
    "pycharm": {
     "name": "#%% md\n"
    }
   }
  },
  {
   "cell_type": "code",
   "execution_count": 113,
   "metadata": {},
   "outputs": [
    {
     "name": "stdout",
     "output_type": "stream",
     "text": [
      "['enfp', 'and', 'intj', 'moments', 'sportscenter', 'not', 'top', 'ten', 'plays', 'pranks', 'what', 'has', 'been', 'the', 'most', 'life-changing', 'experience', 'in', 'your', 'life', 'on', 'repeat', 'for', 'most', 'of', 'today', 'may', 'the', 'perc', 'experience', 'immerse', 'you', 'the', 'last', 'thing', 'my', 'infj', 'friend', 'posted', 'on', 'his', 'facebook', 'before', 'committing', 'suicide', 'the', 'next', 'day', 'rest', 'in', 'peace', 'hello', 'enfj', 'sorry', 'to', 'hear', 'of', 'your', 'distress', 'it', 'is', 'only', 'natural', 'for', 'relationship', 'to', 'not', 'be', 'perfection', 'all', 'the', 'time', 'in', 'every', 'moment', 'of', 'existence', 'try', 'to', 'figure', 'the', 'hard', 'times', 'as', 'times', 'of', 'growth', 'as', 'welcome', 'and', 'stuff', 'game', 'set', 'match', 'prozac', 'wellbrutin', 'at', 'least', 'thirty', 'minutes', 'of', 'moving', 'your', 'legs', 'and', 'do', 'not', 'mean', 'moving', 'them', 'while', 'sitting', 'in', 'your', 'same', 'desk', 'chair', 'weed', 'in', 'moderation', 'maybe', 'try', 'edibles', 'as', 'healthier', 'alternative', 'basically', 'come', 'up', 'with', 'three', 'items', 'you', 'have', 'determined', 'that', 'each', 'type', 'or', 'whichever', 'types', 'you', 'want', 'to', 'do', 'would', 'more', 'than', 'likely', 'use', 'given', 'each', 'types', 'cognitive', 'functions', 'and', 'whatnot', 'when', 'left', 'by', 'all', 'things', 'in', 'moderation', 'sims', 'is', 'indeed', 'video', 'game', 'and', 'good', 'one', 'at', 'that', 'note', 'good', 'one', 'at', 'that', 'is', 'somewhat', 'subjective', 'in', 'that', 'am', 'not', 'completely', 'promoting', 'the', 'death', 'of', 'any', 'given', 'sim', 'dear', 'enfp', 'what', 'were', 'your', 'favorite', 'video', 'games', 'growing', 'up', 'and', 'what', 'are', 'your', 'now', 'current', 'favorite', 'video', 'games', 'cool', 'it', 'appears', 'to', 'be', 'too', 'late', 'sad', 'there', 'is', 'someone', 'out', 'there', 'for', 'everyone', 'wait', 'thought', 'confidence', 'was', 'good', 'thing', 'just', 'cherish', 'the', 'time', 'of', 'solitude', 'revel', 'within', 'my', 'inner', 'world', 'more', 'whereas', 'most', 'other', 'time', 'would', 'be', 'workin', 'just', 'enjoy', 'the', 'me', 'time', 'while', 'you', 'can', 'do', 'not', 'worry', 'people', 'will', 'always', 'be', 'around', 'to', 'yo', 'entp', 'ladies', 'if', 'you', 'are', 'into', 'complimentary', 'personality', 'well', 'hey', 'when', 'your', 'main', 'social', 'outlet', 'is', 'xbox', 'live', 'conversations', 'and', 'even', 'then', 'you', 'verbally', 'fatigue', 'quickly', 'really', 'dig', 'the', 'part', 'from', 'to', 'banned', 'because', 'this', 'thread', 'requires', 'it', 'of', 'me', 'get', 'high', 'in', 'backyard', 'roast', 'and', 'eat', 'marshmellows', 'in', 'backyard', 'while', 'conversing', 'over', 'something', 'intellectual', 'followed', 'by', 'massages', 'and', 'kisses', 'banned', 'for', 'too', 'many', \"b's\", 'in', 'that', 'sentence', 'how', 'could', 'you', 'think', 'of', 'the', 'banned', 'for', 'watching', 'movies', 'in', 'the', 'corner', 'with', 'the', 'dunces', 'banned', 'because', 'health', 'class', 'clearly', 'taught', 'you', 'nothing', 'about', 'peer', 'pressure', 'banned', 'for', 'whole', 'host', 'of', 'reasons', 'two', 'baby', 'deer', 'on', 'left', 'and', 'right', 'munching', 'on', 'beetle', 'in', 'the', 'middle', 'using', 'their', 'own', 'blood', 'two', 'cavemen', 'diary', \"today's\", 'latest', 'happenings', 'on', 'their', 'designated', 'cave', 'diary', 'wall', 'see', 'it', 'as', 'pokemon', 'world', 'an', 'infj', 'society', 'everyone', 'becomes', 'an', 'optimist', 'not', 'all', 'artists', 'are', 'artists', 'because', 'they', 'draw', 'it', 'is', 'the', 'idea', 'that', 'counts', 'in', 'forming', 'something', 'of', 'your', 'own', 'like', 'signature', 'welcome', 'to', 'the', 'robot', 'ranks', 'person', 'who', 'downed', 'my', 'self-esteem', 'cuz', 'am', 'not', 'an', 'avid', 'signature', 'artist', 'like', 'herself', 'proud', 'banned', 'for', 'taking', 'all', 'the', 'room', 'under', 'my', 'bed', 'ya', 'got', 'to', 'learn', 'to', 'share', 'with', 'the', 'roaches', 'banned', 'for', 'being', 'too', 'much', 'of', 'thundering', 'grumbling', 'kind', 'of', 'storm', 'yep', 'ahh', 'old', 'high', 'school', 'music', 'have', 'not', 'heard', 'in', 'ages', 'failed', 'public', 'speaking', 'class', 'few', 'years', 'ago', 'and', 'have', 'sort', 'of', 'learned', 'what', 'could', 'do', 'better', 'were', 'to', 'be', 'in', 'that', 'position', 'again', 'big', 'part', 'of', 'my', 'failure', 'was', 'just', 'overloading', 'myself', 'with', 'too', 'like', 'this', \"person's\", 'mentality', 'he', 'is', 'confirmed', 'intj', 'by', 'the', 'way', 'move', 'to', 'the', 'denver', 'area', 'and', 'start', 'new', 'life', 'for', 'myself']\n"
     ]
    }
   ],
   "source": [
    "# remove the one-letter words\n",
    "def remove_letters(words_list):\n",
    "    filtered_words = [word for word in words_list if len(word) > 1]\n",
    "    return filtered_words\n",
    "\n",
    "clean_data['posts'] = [remove_letters(entry) for entry in clean_data['posts']]\n",
    "\n",
    "print(clean_data['posts'][0])"
   ]
  },
  {
   "cell_type": "markdown",
   "metadata": {},
   "source": [
    "Remove the words/labels for personality types since they are very frequent.(enfp, intj, enfj...)."
   ]
  },
  {
   "cell_type": "code",
   "execution_count": 114,
   "metadata": {
    "collapsed": false,
    "jupyter": {
     "outputs_hidden": false
    },
    "pycharm": {
     "name": "#%%\n"
    }
   },
   "outputs": [
    {
     "name": "stdout",
     "output_type": "stream",
     "text": [
      "['and', 'moments', 'sportscenter', 'not', 'top', 'ten', 'plays', 'pranks', 'what', 'has', 'been', 'the', 'most', 'life-changing', 'experience', 'in', 'your', 'life', 'on', 'repeat', 'for', 'most', 'of', 'today', 'may', 'the', 'perc', 'experience', 'immerse', 'you', 'the', 'last', 'thing', 'my', 'friend', 'posted', 'on', 'his', 'facebook', 'before', 'committing', 'suicide', 'the', 'next', 'day', 'rest', 'in', 'peace', 'hello', 'sorry', 'to', 'hear', 'of', 'your', 'distress', 'it', 'is', 'only', 'natural', 'for', 'relationship', 'to', 'not', 'be', 'perfection', 'all', 'the', 'time', 'in', 'every', 'moment', 'of', 'existence', 'try', 'to', 'figure', 'the', 'hard', 'times', 'as', 'times', 'of', 'growth', 'as', 'welcome', 'and', 'stuff', 'game', 'set', 'match', 'prozac', 'wellbrutin', 'at', 'least', 'thirty', 'minutes', 'of', 'moving', 'your', 'legs', 'and', 'do', 'not', 'mean', 'moving', 'them', 'while', 'sitting', 'in', 'your', 'same', 'desk', 'chair', 'weed', 'in', 'moderation', 'maybe', 'try', 'edibles', 'as', 'healthier', 'alternative', 'basically', 'come', 'up', 'with', 'three', 'items', 'you', 'have', 'determined', 'that', 'each', 'type', 'or', 'whichever', 'types', 'you', 'want', 'to', 'do', 'would', 'more', 'than', 'likely', 'use', 'given', 'each', 'types', 'cognitive', 'functions', 'and', 'whatnot', 'when', 'left', 'by', 'all', 'things', 'in', 'moderation', 'sims', 'is', 'indeed', 'video', 'game', 'and', 'good', 'one', 'at', 'that', 'note', 'good', 'one', 'at', 'that', 'is', 'somewhat', 'subjective', 'in', 'that', 'am', 'not', 'completely', 'promoting', 'the', 'death', 'of', 'any', 'given', 'sim', 'dear', 'what', 'were', 'your', 'favorite', 'video', 'games', 'growing', 'up', 'and', 'what', 'are', 'your', 'now', 'current', 'favorite', 'video', 'games', 'cool', 'it', 'appears', 'to', 'be', 'too', 'late', 'sad', 'there', 'is', 'someone', 'out', 'there', 'for', 'everyone', 'wait', 'thought', 'confidence', 'was', 'good', 'thing', 'just', 'cherish', 'the', 'time', 'of', 'solitude', 'revel', 'within', 'my', 'inner', 'world', 'more', 'whereas', 'most', 'other', 'time', 'would', 'be', 'workin', 'just', 'enjoy', 'the', 'me', 'time', 'while', 'you', 'can', 'do', 'not', 'worry', 'people', 'will', 'always', 'be', 'around', 'to', 'yo', 'ladies', 'if', 'you', 'are', 'into', 'complimentary', 'personality', 'well', 'hey', 'when', 'your', 'main', 'social', 'outlet', 'is', 'xbox', 'live', 'conversations', 'and', 'even', 'then', 'you', 'verbally', 'fatigue', 'quickly', 'really', 'dig', 'the', 'part', 'from', 'to', 'banned', 'because', 'this', 'thread', 'requires', 'it', 'of', 'me', 'get', 'high', 'in', 'backyard', 'roast', 'and', 'eat', 'marshmellows', 'in', 'backyard', 'while', 'conversing', 'over', 'something', 'intellectual', 'followed', 'by', 'massages', 'and', 'kisses', 'banned', 'for', 'too', 'many', \"b's\", 'in', 'that', 'sentence', 'how', 'could', 'you', 'think', 'of', 'the', 'banned', 'for', 'watching', 'movies', 'in', 'the', 'corner', 'with', 'the', 'dunces', 'banned', 'because', 'health', 'class', 'clearly', 'taught', 'you', 'nothing', 'about', 'peer', 'pressure', 'banned', 'for', 'whole', 'host', 'of', 'reasons', 'two', 'baby', 'deer', 'on', 'left', 'and', 'right', 'munching', 'on', 'beetle', 'in', 'the', 'middle', 'using', 'their', 'own', 'blood', 'two', 'cavemen', 'diary', \"today's\", 'latest', 'happenings', 'on', 'their', 'designated', 'cave', 'diary', 'wall', 'see', 'it', 'as', 'pokemon', 'world', 'an', 'society', 'everyone', 'becomes', 'an', 'optimist', 'not', 'all', 'artists', 'are', 'artists', 'because', 'they', 'draw', 'it', 'is', 'the', 'idea', 'that', 'counts', 'in', 'forming', 'something', 'of', 'your', 'own', 'like', 'signature', 'welcome', 'to', 'the', 'robot', 'ranks', 'person', 'who', 'downed', 'my', 'self-esteem', 'cuz', 'am', 'not', 'an', 'avid', 'signature', 'artist', 'like', 'herself', 'proud', 'banned', 'for', 'taking', 'all', 'the', 'room', 'under', 'my', 'bed', 'ya', 'got', 'to', 'learn', 'to', 'share', 'with', 'the', 'roaches', 'banned', 'for', 'being', 'too', 'much', 'of', 'thundering', 'grumbling', 'kind', 'of', 'storm', 'yep', 'ahh', 'old', 'high', 'school', 'music', 'have', 'not', 'heard', 'in', 'ages', 'failed', 'public', 'speaking', 'class', 'few', 'years', 'ago', 'and', 'have', 'sort', 'of', 'learned', 'what', 'could', 'do', 'better', 'were', 'to', 'be', 'in', 'that', 'position', 'again', 'big', 'part', 'of', 'my', 'failure', 'was', 'just', 'overloading', 'myself', 'with', 'too', 'like', 'this', \"person's\", 'mentality', 'he', 'is', 'confirmed', 'by', 'the', 'way', 'move', 'to', 'the', 'denver', 'area', 'and', 'start', 'new', 'life', 'for', 'myself']\n"
     ]
    }
   ],
   "source": [
    "mbti_types = ['infj', 'infp', 'intj', 'intp', 'isfj', 'isfp', 'istj', 'istp',\n",
    "              'enfj', 'enfp', 'entj', 'entp', 'esfj', 'esfp', 'estj', 'estp']\n",
    "\n",
    "def remove_mbti_types(words_list):\n",
    "    filtered_words = [word for word in words_list if word not in mbti_types]\n",
    "    return filtered_words\n",
    "\n",
    "clean_data['posts'] = [remove_mbti_types(entry) for entry in clean_data['posts']]\n",
    "print(clean_data['posts'][0])"
   ]
  },
  {
   "cell_type": "markdown",
   "metadata": {},
   "source": [
    "## 3. Text normalization"
   ]
  },
  {
   "cell_type": "markdown",
   "source": [
    "The next step is normalization: stemming (carrying of word roots) and lemmatization (keeping word context). For a small dataset, like this one, it is ok to lemmatize the words (I will use Part-Of-Speech/POS-tags that will categorize words according to the word types)."
   ],
   "metadata": {
    "collapsed": false,
    "pycharm": {
     "name": "#%% md\n"
    }
   }
  },
  {
   "cell_type": "code",
   "execution_count": 115,
   "metadata": {},
   "outputs": [
    {
     "name": "stderr",
     "output_type": "stream",
     "text": [
      "[nltk_data] Downloading package omw-1.4 to\n",
      "[nltk_data]     C:\\Users\\ninoslav\\AppData\\Roaming\\nltk_data...\n",
      "[nltk_data]   Package omw-1.4 is already up-to-date!\n"
     ]
    },
    {
     "data": {
      "text/plain": "True"
     },
     "execution_count": 115,
     "metadata": {},
     "output_type": "execute_result"
    }
   ],
   "source": [
    "nltk.download('omw-1.4')"
   ]
  },
  {
   "cell_type": "code",
   "execution_count": 116,
   "metadata": {
    "collapsed": false,
    "jupyter": {
     "outputs_hidden": false
    },
    "pycharm": {
     "name": "#%%\n"
    }
   },
   "outputs": [
    {
     "name": "stderr",
     "output_type": "stream",
     "text": [
      "[nltk_data] Downloading package averaged_perceptron_tagger to\n",
      "[nltk_data]     C:\\Users\\ninoslav\\AppData\\Roaming\\nltk_data...\n",
      "[nltk_data]   Package averaged_perceptron_tagger is already up-to-\n",
      "[nltk_data]       date!\n"
     ]
    },
    {
     "name": "stdout",
     "output_type": "stream",
     "text": [
      "['and', 'moment', 'sportscenter', 'not', 'top', 'ten', 'play', 'prank', 'what', 'have', 'be', 'the', 'most', 'life-changing', 'experience', 'in', 'your', 'life', 'on', 'repeat', 'for', 'most', 'of', 'today', 'may', 'the', 'perc', 'experience', 'immerse', 'you', 'the', 'last', 'thing', 'my', 'friend', 'post', 'on', 'his', 'facebook', 'before', 'commit', 'suicide', 'the', 'next', 'day', 'rest', 'in', 'peace', 'hello', 'sorry', 'to', 'hear', 'of', 'your', 'distress', 'it', 'be', 'only', 'natural', 'for', 'relationship', 'to', 'not', 'be', 'perfection', 'all', 'the', 'time', 'in', 'every', 'moment', 'of', 'existence', 'try', 'to', 'figure', 'the', 'hard', 'time', 'a', 'time', 'of', 'growth', 'a', 'welcome', 'and', 'stuff', 'game', 'set', 'match', 'prozac', 'wellbrutin', 'at', 'least', 'thirty', 'minute', 'of', 'move', 'your', 'leg', 'and', 'do', 'not', 'mean', 'move', 'them', 'while', 'sit', 'in', 'your', 'same', 'desk', 'chair', 'weed', 'in', 'moderation', 'maybe', 'try', 'edible', 'a', 'healthier', 'alternative', 'basically', 'come', 'up', 'with', 'three', 'item', 'you', 'have', 'determine', 'that', 'each', 'type', 'or', 'whichever', 'type', 'you', 'want', 'to', 'do', 'would', 'more', 'than', 'likely', 'use', 'give', 'each', 'type', 'cognitive', 'function', 'and', 'whatnot', 'when', 'leave', 'by', 'all', 'thing', 'in', 'moderation', 'sims', 'be', 'indeed', 'video', 'game', 'and', 'good', 'one', 'at', 'that', 'note', 'good', 'one', 'at', 'that', 'be', 'somewhat', 'subjective', 'in', 'that', 'be', 'not', 'completely', 'promote', 'the', 'death', 'of', 'any', 'give', 'sim', 'dear', 'what', 'be', 'your', 'favorite', 'video', 'game', 'grow', 'up', 'and', 'what', 'be', 'your', 'now', 'current', 'favorite', 'video', 'game', 'cool', 'it', 'appear', 'to', 'be', 'too', 'late', 'sad', 'there', 'be', 'someone', 'out', 'there', 'for', 'everyone', 'wait', 'think', 'confidence', 'be', 'good', 'thing', 'just', 'cherish', 'the', 'time', 'of', 'solitude', 'revel', 'within', 'my', 'inner', 'world', 'more', 'whereas', 'most', 'other', 'time', 'would', 'be', 'workin', 'just', 'enjoy', 'the', 'me', 'time', 'while', 'you', 'can', 'do', 'not', 'worry', 'people', 'will', 'always', 'be', 'around', 'to', 'yo', 'lady', 'if', 'you', 'be', 'into', 'complimentary', 'personality', 'well', 'hey', 'when', 'your', 'main', 'social', 'outlet', 'be', 'xbox', 'live', 'conversation', 'and', 'even', 'then', 'you', 'verbally', 'fatigue', 'quickly', 'really', 'dig', 'the', 'part', 'from', 'to', 'ban', 'because', 'this', 'thread', 'require', 'it', 'of', 'me', 'get', 'high', 'in', 'backyard', 'roast', 'and', 'eat', 'marshmellows', 'in', 'backyard', 'while', 'converse', 'over', 'something', 'intellectual', 'follow', 'by', 'massage', 'and', 'kiss', 'ban', 'for', 'too', 'many', \"b's\", 'in', 'that', 'sentence', 'how', 'could', 'you', 'think', 'of', 'the', 'ban', 'for', 'watch', 'movie', 'in', 'the', 'corner', 'with', 'the', 'dunce', 'ban', 'because', 'health', 'class', 'clearly', 'teach', 'you', 'nothing', 'about', 'peer', 'pressure', 'ban', 'for', 'whole', 'host', 'of', 'reason', 'two', 'baby', 'deer', 'on', 'left', 'and', 'right', 'munching', 'on', 'beetle', 'in', 'the', 'middle', 'use', 'their', 'own', 'blood', 'two', 'caveman', 'diary', \"today's\", 'late', 'happening', 'on', 'their', 'designate', 'cave', 'diary', 'wall', 'see', 'it', 'a', 'pokemon', 'world', 'an', 'society', 'everyone', 'become', 'an', 'optimist', 'not', 'all', 'artist', 'be', 'artist', 'because', 'they', 'draw', 'it', 'be', 'the', 'idea', 'that', 'count', 'in', 'form', 'something', 'of', 'your', 'own', 'like', 'signature', 'welcome', 'to', 'the', 'robot', 'rank', 'person', 'who', 'down', 'my', 'self-esteem', 'cuz', 'be', 'not', 'an', 'avid', 'signature', 'artist', 'like', 'herself', 'proud', 'ban', 'for', 'take', 'all', 'the', 'room', 'under', 'my', 'bed', 'ya', 'get', 'to', 'learn', 'to', 'share', 'with', 'the', 'roach', 'ban', 'for', 'be', 'too', 'much', 'of', 'thunder', 'grumble', 'kind', 'of', 'storm', 'yep', 'ahh', 'old', 'high', 'school', 'music', 'have', 'not', 'hear', 'in', 'age', 'fail', 'public', 'speaking', 'class', 'few', 'year', 'ago', 'and', 'have', 'sort', 'of', 'learn', 'what', 'could', 'do', 'good', 'be', 'to', 'be', 'in', 'that', 'position', 'again', 'big', 'part', 'of', 'my', 'failure', 'be', 'just', 'overload', 'myself', 'with', 'too', 'like', 'this', \"person's\", 'mentality', 'he', 'be', 'confirm', 'by', 'the', 'way', 'move', 'to', 'the', 'denver', 'area', 'and', 'start', 'new', 'life', 'for', 'myself']\n"
     ]
    }
   ],
   "source": [
    "# Lemmatization- there should be an additional check on how lemmatization helps classify this dataset. Nevertheless, maybe, it does not help!\n",
    "import nltk\n",
    "from nltk.stem.wordnet import WordNetLemmatizer\n",
    "from collections import defaultdict\n",
    "from nltk.corpus import wordnet as wn\n",
    "nltk.download('averaged_perceptron_tagger')\n",
    "\n",
    "tag_map = defaultdict(lambda : wn.NOUN)\n",
    "tag_map['J'] = wn.ADJ\n",
    "tag_map['V'] = wn.VERB\n",
    "tag_map['R'] = wn.ADV\n",
    "\n",
    "lem = WordNetLemmatizer()\n",
    "\n",
    "def normalize_words(words):\n",
    "    tags = nltk.pos_tag(words)\n",
    "    tags = [lem.lemmatize(v, tag_map[t[0]]) for v,t in tags]\n",
    "    return tags\n",
    "\n",
    "clean_data['posts'] = [normalize_words(entry) for entry in clean_data['posts']]\n",
    "print(clean_data['posts'][0])"
   ]
  },
  {
   "cell_type": "markdown",
   "metadata": {},
   "source": [
    "## 5. Additional analysis of the clean dataset\n"
   ]
  },
  {
   "cell_type": "code",
   "execution_count": 117,
   "metadata": {
    "collapsed": false,
    "jupyter": {
     "outputs_hidden": false
    },
    "pycharm": {
     "name": "#%%\n"
    }
   },
   "outputs": [
    {
     "name": "stdout",
     "output_type": "stream",
     "text": [
      "Avg post length:1183.57\n",
      "Max post length:1789\n"
     ]
    }
   ],
   "source": [
    "lengths_of_posts = [len(post) for post in clean_data['posts']]\n",
    "avg_length = round(sum(lengths_of_posts)/len(lengths_of_posts),2)\n",
    "max_length = max(lengths_of_posts)\n",
    "print('Avg post length:' + str(avg_length))\n",
    "print('Max post length:' + str(max_length))"
   ]
  },
  {
   "cell_type": "code",
   "execution_count": 118,
   "metadata": {
    "collapsed": false,
    "jupyter": {
     "outputs_hidden": false
    },
    "pycharm": {
     "name": "#%%\n"
    }
   },
   "outputs": [
    {
     "name": "stdout",
     "output_type": "stream",
     "text": [
      "1236    24\n",
      "1312    22\n",
      "1351    22\n",
      "1272    22\n",
      "1402    21\n",
      "        ..\n",
      "428      1\n",
      "1686     1\n",
      "215      1\n",
      "91       1\n",
      "404      1\n",
      "Length: 1353, dtype: int64\n"
     ]
    }
   ],
   "source": [
    "post_count = pd.Series(lengths_of_posts).value_counts()\n",
    "\n",
    "print(post_count)"
   ]
  },
  {
   "cell_type": "code",
   "execution_count": 119,
   "metadata": {
    "collapsed": false,
    "jupyter": {
     "outputs_hidden": false
    },
    "pycharm": {
     "name": "#%%\n"
    }
   },
   "outputs": [],
   "source": [
    "# in case that data pre-processing result in empty posts, remove it\n",
    "clean_data = clean_data[clean_data.posts.map(len) != 0].copy()"
   ]
  },
  {
   "cell_type": "code",
   "execution_count": 120,
   "metadata": {
    "collapsed": false,
    "jupyter": {
     "outputs_hidden": false
    },
    "pycharm": {
     "name": "#%%\n"
    }
   },
   "outputs": [],
   "source": [
    "freq = pd.Series([item for text in clean_data['posts'] for item in text]).value_counts()"
   ]
  },
  {
   "cell_type": "code",
   "execution_count": 121,
   "metadata": {
    "collapsed": false,
    "jupyter": {
     "outputs_hidden": false
    },
    "pycharm": {
     "name": "#%%\n"
    }
   },
   "outputs": [
    {
     "name": "stdout",
     "output_type": "stream",
     "text": [
      "Vocabulary size:111994\n"
     ]
    }
   ],
   "source": [
    "print(\"Vocabulary size:\" + str(freq.size))"
   ]
  },
  {
   "cell_type": "code",
   "execution_count": 122,
   "metadata": {
    "collapsed": false,
    "jupyter": {
     "outputs_hidden": false
    },
    "pycharm": {
     "name": "#%%\n"
    }
   },
   "outputs": [
    {
     "name": "stdout",
     "output_type": "stream",
     "text": [
      "10 the most frequent words:\n",
      "be      631575\n",
      "the     309058\n",
      "to      308231\n",
      "and     243890\n",
      "it      193872\n",
      "you     189623\n",
      "not     186834\n",
      "of      185681\n",
      "have    167226\n",
      "that    164757\n",
      "dtype: int64\n"
     ]
    }
   ],
   "source": [
    "print(\"10 the most frequent words:\")\n",
    "top_10 = freq[:10]\n",
    "print(top_10)"
   ]
  },
  {
   "cell_type": "code",
   "execution_count": 123,
   "metadata": {
    "collapsed": false,
    "jupyter": {
     "outputs_hidden": false
    },
    "pycharm": {
     "name": "#%%\n"
    }
   },
   "outputs": [
    {
     "name": "stdout",
     "output_type": "stream",
     "text": [
      "The least frequent words: 96183\n"
     ]
    }
   ],
   "source": [
    "least_freq_words = freq[freq <= 10]\n",
    "print(\"The least frequent words: \" + str(len(least_freq_words)))"
   ]
  },
  {
   "cell_type": "markdown",
   "metadata": {
    "jupyter": {
     "outputs_hidden": false
    },
    "pycharm": {
     "name": "#%%\n"
    }
   },
   "source": [
    "least_freq_words.index.tolist()"
   ]
  },
  {
   "cell_type": "code",
   "execution_count": 124,
   "outputs": [
    {
     "name": "stdout",
     "output_type": "stream",
     "text": [
      "earthbound      10\n",
      "chameleoning    10\n",
      "prosper         10\n",
      "bookcase        10\n",
      "booger          10\n",
      "                ..\n",
      "blackest         1\n",
      "street's         1\n",
      "stop's           1\n",
      "krusmynt         1\n",
      "ausse            1\n",
      "Length: 96183, dtype: int64\n"
     ]
    }
   ],
   "source": [
    "#in this list, we have many tip felers or rare words\n",
    "print(least_freq_words)"
   ],
   "metadata": {
    "collapsed": false,
    "pycharm": {
     "name": "#%%\n"
    }
   }
  },
  {
   "cell_type": "markdown",
   "metadata": {},
   "source": [
    "## 6. Save the pre-processed dataset"
   ]
  },
  {
   "cell_type": "code",
   "execution_count": 125,
   "metadata": {
    "collapsed": false,
    "jupyter": {
     "outputs_hidden": false
    },
    "pycharm": {
     "name": "#%%\n"
    }
   },
   "outputs": [],
   "source": [
    "\n",
    "clean_data.to_csv('../data/processed/mbti_1_processed.csv')\n",
    "# list of words to text before saving\n",
    "clean_data['posts'] = [' '.join(post) for post in clean_data['posts']]\n",
    "\n",
    "# save to .pkl\n",
    "clean_data.to_pickle('../data/processed/CleanMBTIPersonalityCaffe_v01.pkl')\n",
    "\n"
   ]
  }
 ],
 "metadata": {
  "kernelspec": {
   "display_name": "Python 3",
   "language": "python",
   "name": "python3"
  },
  "language_info": {
   "codemirror_mode": {
    "name": "ipython",
    "version": 3
   },
   "file_extension": ".py",
   "mimetype": "text/x-python",
   "name": "python",
   "nbconvert_exporter": "python",
   "pygments_lexer": "ipython3",
   "version": "3.6.7"
  }
 },
 "nbformat": 4,
 "nbformat_minor": 4
}